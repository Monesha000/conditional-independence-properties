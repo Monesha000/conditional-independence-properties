{
 "cells": [
  {
   "cell_type": "code",
   "execution_count": 4,
   "id": "72cd8b54",
   "metadata": {},
   "outputs": [
    {
     "name": "stdout",
     "output_type": "stream",
     "text": [
      "Conditional Independence Properties:\n",
      "1. Independence of X and Y given Z:\n",
      "False\n",
      "\n",
      "2. Independence of X and Z given Y:\n",
      "False\n"
     ]
    }
   ],
   "source": [
    "import numpy as np\n",
    "\n",
    "# Define random variables X, Y, and Z\n",
    "X = np.random.randint(0, 2, size=100)  # Binary random variable\n",
    "Y = np.random.randint(0, 2, size=100)  # Binary random variable\n",
    "Z = np.random.randint(0, 2, size=100)  # Binary random variable\n",
    "\n",
    "# Calculate joint probabilities\n",
    "joint_prob_XYZ = np.mean((X == 1) & (Y == 1) & (Z == 1))  # P(X=1, Y=1, Z=1)\n",
    "joint_prob_XY = np.mean((X == 1) & (Y == 1))  # P(X=1, Y=1)\n",
    "joint_prob_XZ = np.mean((X == 1) & (Z == 1))  # P(X=1, Z=1)\n",
    "joint_prob_YZ = np.mean((Y == 1) & (Z == 1))  # P(Y=1, Z=1)\n",
    "\n",
    "# Calculate conditional probabilities\n",
    "conditional_prob_X_given_YZ = joint_prob_XYZ / joint_prob_YZ  # P(X=1 | Y=1, Z=1)\n",
    "conditional_prob_X_given_Y = joint_prob_XY / np.mean(Y == 1)  # P(X=1 | Y=1)\n",
    "conditional_prob_X_given_Z = joint_prob_XZ / np.mean(Z == 1)  # P(X=1 | Z=1)\n",
    "\n",
    "# Check for conditional independence properties\n",
    "print(\"Conditional Independence Properties:\")\n",
    "print(\"1. Independence of X and Y given Z:\")\n",
    "print(np.isclose(conditional_prob_X_given_YZ, conditional_prob_X_given_Y, atol=1e-6))  # Check if P(X|Y,Z) ~= P(X|Y)\n",
    "print()\n",
    "print(\"2. Independence of X and Z given Y:\")\n",
    "print(np.isclose(conditional_prob_X_given_YZ, conditional_prob_X_given_Z, atol=1e-6))  # Check if P(X|Y,Z) ~= P(X|Z)\n"
   ]
  },
  {
   "cell_type": "code",
   "execution_count": 5,
   "id": "d29c5d90",
   "metadata": {},
   "outputs": [
    {
     "data": {
      "image/png": "[encoded data removed]",
      "text/plain": [
       "<Figure size 432x288 with 1 Axes>"
      ]
     },
     "metadata": {
      "needs_background": "light"
     },
     "output_type": "display_data"
    }
   ],
   "source": [
    "import matplotlib.pyplot as plt\n",
    "\n",
    "# Plotting the conditional probabilities\n",
    "labels = ['P(X=1 | Y=1, Z=1)', 'P(X=1 | Y=1)', 'P(X=1 | Z=1)']\n",
    "probabilities = [conditional_prob_X_given_YZ, conditional_prob_X_given_Y, conditional_prob_X_given_Z]\n",
    "\n",
    "plt.bar(labels, probabilities)\n",
    "plt.ylabel('Probability')\n",
    "plt.title('Conditional Probabilities of X given Y and Z')\n",
    "plt.ylim(0, 1)  # Setting y-axis limits to [0, 1]\n",
    "plt.grid(True)\n",
    "plt.show()\n"
   ]
  }
 ],
 "metadata": {
  "kernelspec": {
   "display_name": "Python 3 (ipykernel)",
   "language": "python",
   "name": "python3"
  },
  "language_info": {
   "codemirror_mode": {
    "name": "ipython",
    "version": 3
   },
   "file_extension": ".py",
   "mimetype": "text/x-python",
   "name": "python",
   "nbconvert_exporter": "python",
   "pygments_lexer": "ipython3",
   "version": "3.9.12"
  }
 },
 "nbformat": 4,
 "nbformat_minor": 5
}
